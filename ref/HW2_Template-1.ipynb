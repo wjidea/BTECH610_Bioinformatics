{
 "cells": [
  {
   "cell_type": "markdown",
   "id": "174daf74-4c83-4658-8768-2a7737d6f3ac",
   "metadata": {},
   "source": [
    "# Homework2 Template\n",
    "\n",
    "Student Name: Type your name here\n"
   ]
  },
  {
   "cell_type": "code",
   "execution_count": null,
   "id": "9a864362-4f9c-4dea-8b64-0e627f2339c4",
   "metadata": {
    "tags": []
   },
   "outputs": [],
   "source": [
    "import pandas as pd\n",
    "import seaborn as sns\n",
    "from Bio.Seq import Seq\n",
    "from Bio import SeqIO\n",
    "from Bio.SeqUtils import GC"
   ]
  },
  {
   "cell_type": "markdown",
   "id": "566cd712-270f-4642-96ae-7e16fcf650ea",
   "metadata": {},
   "source": [
    "## Download file to your working directory"
   ]
  },
  {
   "cell_type": "code",
   "execution_count": null,
   "id": "1030c0f9-6dba-4ce8-8bd7-7543378931ed",
   "metadata": {
    "tags": []
   },
   "outputs": [],
   "source": [
    "!curl -s https://raw.githubusercontent.com/wjidea/BTECH610_Bioinformatics/main/ref/ecoli_cds_seq.fna.gz -o ecoli_cds_seq.fna.gz \n",
    "!curl -s https://raw.githubusercontent.com/wjidea/BTECH610_Bioinformatics/main/ref/Homo_sapiens.GRCh38.110.chr.bed -o Homo_sapiens.GRCh38.110.chr.bed\n",
    "# decompress file\n",
    "!gunzip --force ecoli_cds_seq.fna.gz "
   ]
  },
  {
   "cell_type": "markdown",
   "id": "50646f70-faf8-48e3-ba8f-72766c32bb70",
   "metadata": {},
   "source": [
    "## Question 1\n",
    "Write a python function that takes a DNA sequence as input and returns the reverse complement sequence. [20 points]"
   ]
  },
  {
   "cell_type": "code",
   "execution_count": null,
   "id": "b6b8b669-d4cc-4b14-85fb-cceb8c08b43e",
   "metadata": {
    "tags": []
   },
   "outputs": [],
   "source": [
    "def reverse_complement(seq):\n",
    "    \n",
    "    # Type your code here\n",
    "    \n",
    "    return rev_comp_seq"
   ]
  },
  {
   "cell_type": "code",
   "execution_count": null,
   "id": "762efdae-d9c1-450b-b832-9e9cbbb90804",
   "metadata": {
    "tags": []
   },
   "outputs": [],
   "source": [
    "# Test your code here\n",
    "print(reverse_complement(\"ATACG\"))\n",
    "\n",
    "# Expected output: 'CGTAT'"
   ]
  },
  {
   "cell_type": "markdown",
   "id": "5bd598ce-dd6c-479a-87b6-f1bc13e6bebf",
   "metadata": {},
   "source": [
    "## Question 2\n",
    "**BioPython Summary Statistics**\n",
    "1. Use Biopython's SeqIO module to read in a FASTA file (ecoli_cds_seq.fna.gz). Save the length and GC-content of each sequence record into a dictionary data type. [20 points]\n",
    "2. Convert gene sequence record dictionary into a pandas DataFrame [10 points]\n",
    "3. Create a distribution plot using Seaborn from the DataFrame to demonstrate the gene length and GC-content distribution. [10 points]"
   ]
  },
  {
   "cell_type": "code",
   "execution_count": null,
   "id": "17644078-339a-43bc-b446-b157317cb3db",
   "metadata": {
    "tags": []
   },
   "outputs": [],
   "source": [
    "#Hint: seq_dict structure can be seq_dict[seq_record.name] = [len(seq_record), GC(seq_record.seq)]\n",
    "seq_dict = {}\n",
    "\n",
    "# Type your code here"
   ]
  },
  {
   "cell_type": "code",
   "execution_count": null,
   "id": "fb4dd7b0-125b-47ab-95b6-244cc9f35fc1",
   "metadata": {
    "tags": []
   },
   "outputs": [],
   "source": [
    "#Hint: you can use this pd.DataFrame.from_dict function to convert from dictionary to dataframe\n",
    "# Be sure to change the dataframe orient to use dictionary key as row names\n",
    "\n",
    "# Type your code here"
   ]
  },
  {
   "cell_type": "code",
   "execution_count": null,
   "id": "c53b6f4d-c6e4-4749-bbc3-b03d24c2771a",
   "metadata": {
    "tags": []
   },
   "outputs": [],
   "source": [
    "# use seaborn to plot a distribution plot\n",
    "\n",
    "# Type your code here"
   ]
  },
  {
   "cell_type": "markdown",
   "id": "cdb5c4a1-d4db-43a5-a642-c6f44b312ca1",
   "metadata": {},
   "source": [
    "## Question 3\n",
    "**Calculate human genes counts by chromosomes**\n",
    "1. Read in a BED file (Homo_sapiens.GRCh38.110.chr.bed) containing gene annotation data with columns for chromosome, position, gene ID, and strand into a pandas gene feature DataFrame. Use Pandas to calculate the count of gene features per chromosome. [20 points]\n",
    "2. Using the gene feature DataFrame, create a bar plot (seaborn sns.countplot) showing the gene feature count for each chromosome using Seaborn. [20 points]\n",
    "3. [Bonus] Plot the gene feature count plot in descending order (i.e., sort the chromosome label order based on gene counts) [10 points]"
   ]
  },
  {
   "cell_type": "code",
   "execution_count": null,
   "id": "0c54ed5f-cab9-40a0-80e4-d97475e41a47",
   "metadata": {
    "tags": []
   },
   "outputs": [],
   "source": [
    "# Hint: use pandas read_csv function to read in the Homo_sapiens.GRCh38.110.chr.bed file\n",
    "# Hint: the sep is not a comma, you need to change the sep (delimiter) to a tab (\"\\t\")\n",
    "# Hint: column names are not present in the bed file, you can specify that with names parameter as [\"chr\", \"start\", \"end\", \"gene_name\", \"strand\"]\n",
    "\n",
    "# Type your code here"
   ]
  },
  {
   "cell_type": "code",
   "execution_count": null,
   "id": "e704e281-b892-4188-afc7-f816f17d1b7d",
   "metadata": {
    "tags": []
   },
   "outputs": [],
   "source": [
    "# Plot with seaborn countplot\n",
    "\n",
    "# Type your code here"
   ]
  },
  {
   "cell_type": "code",
   "execution_count": null,
   "id": "d3b14bfe-4d6a-456e-958f-50a3c4c227b1",
   "metadata": {
    "tags": []
   },
   "outputs": [],
   "source": [
    "# plot with seaborn countplot with sorted data\n",
    "\n",
    "# Type your code here"
   ]
  },
  {
   "cell_type": "code",
   "execution_count": null,
   "id": "ce736db8-0edb-4957-b416-7f117740d0b4",
   "metadata": {
    "tags": []
   },
   "outputs": [],
   "source": []
  },
  {
   "cell_type": "code",
   "execution_count": null,
   "id": "cd2b1c9e-5f3c-4b09-ab40-5782b49a7591",
   "metadata": {},
   "outputs": [],
   "source": []
  }
 ],
 "metadata": {
  "kernelspec": {
   "display_name": "Python 3 (ipykernel)",
   "language": "python",
   "name": "python3"
  },
  "language_info": {
   "codemirror_mode": {
    "name": "ipython",
    "version": 3
   },
   "file_extension": ".py",
   "mimetype": "text/x-python",
   "name": "python",
   "nbconvert_exporter": "python",
   "pygments_lexer": "ipython3",
   "version": "3.10.13"
  }
 },
 "nbformat": 4,
 "nbformat_minor": 5
}

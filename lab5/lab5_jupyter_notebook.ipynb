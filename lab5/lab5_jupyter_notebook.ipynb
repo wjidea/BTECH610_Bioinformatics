{
 "cells": [
  {
   "cell_type": "markdown",
   "id": "babcf360-64ac-40ff-ab76-17208d6cfb7d",
   "metadata": {},
   "source": [
    "# Lab 5 Exercise\n",
    "\n",
    "\n",
    "## Outline \n",
    "\n",
    "1. Get data into Python Notebook\n",
    "   * Open files from local file system\n",
    "   * Open files from Web\n",
    "  \n",
    "2. Preprocess data\n",
    "    * Pandas\n",
    "\n",
    "3. Visualize data\n",
    "    * **matplotlib**\n",
    "    * **seaborn**\n",
    "\n",
    "4. References"
   ]
  },
  {
   "cell_type": "markdown",
   "id": "3e191293-cd09-4920-92bf-ffe988dd5bfb",
   "metadata": {},
   "source": [
    "## 1. Get data into Python\n",
    "\n",
    "\n",
    "[Download Data](https://gist.githubusercontent.com/wjidea/9617d9f9d36ce6343124f538709332ab/raw/ec71e921ee43b02d8ec830d0f758482f459bef92/iris_data.csv)\n",
    "\n",
    "This is OPTIONAL. Only if you are interested in seeing the data on your local computer programs, such as MS Excel.\n",
    "\n",
    "### Iris dataset\n",
    "\n",
    "Source: https://archive.ics.uci.edu/ml/datasets/iris  \n",
    "About: https://en.wikipedia.org/wiki/Iris_flower_data_set"
   ]
  },
  {
   "cell_type": "markdown",
   "id": "4f568520-d5de-496b-85ad-01b7e9bf54cc",
   "metadata": {},
   "source": [
    "<img src=\"http://drive.google.com/uc?export=view&id=1-OZp7Bw4sNE2Qpk2o6StvVSHn4Vb0zly\" width=\"700\" />\n",
    "\n",
    "<!-- ![alt text](http://drive.google.com/uc?export=view&id=1-OZp7Bw4sNE2Qpk2o6StvVSHn4Vb0zly)  -->"
   ]
  },
  {
   "cell_type": "code",
   "execution_count": null,
   "id": "96b2ed6f-4e10-4271-ab62-0aa251e1546d",
   "metadata": {
    "tags": []
   },
   "outputs": [],
   "source": [
    "# Download data into local directory\n",
    "!curl -s -H 'Accept: application/vnd.github.v3.raw+csv' -o 'iris_data.csv' \\\n",
    "https://gist.githubusercontent.com/wjidea/9617d9f9d36ce6343124f538709332ab/raw/ec71e921ee43b02d8ec830d0f758482f459bef92/iris_data.csv"
   ]
  },
  {
   "cell_type": "markdown",
   "id": "8e86d958-f702-4382-a4e2-97c0c32286d8",
   "metadata": {},
   "source": [
    "## 2. Data Processing\n"
   ]
  },
  {
   "cell_type": "markdown",
   "id": "1826de58-c8ef-4a39-91c1-6157af220599",
   "metadata": {},
   "source": [
    "### Import dependent packages and load data"
   ]
  },
  {
   "cell_type": "code",
   "execution_count": null,
   "id": "1b48f187-c949-4dba-ac39-6e2837a567d1",
   "metadata": {
    "tags": []
   },
   "outputs": [],
   "source": [
    "import numpy as np\n",
    "import pandas as pd\n",
    "iris_data = pd.read_csv('iris_data.csv')"
   ]
  },
  {
   "cell_type": "code",
   "execution_count": null,
   "id": "2936581f-e70a-4e46-921f-e17dd09e3705",
   "metadata": {
    "tags": []
   },
   "outputs": [],
   "source": [
    "iris_data.info();\n"
   ]
  },
  {
   "cell_type": "code",
   "execution_count": null,
   "id": "97caacf3-c6f6-4eb0-90c9-422468e3204f",
   "metadata": {
    "tags": []
   },
   "outputs": [],
   "source": [
    "iris_data[50:].head()"
   ]
  },
  {
   "cell_type": "code",
   "execution_count": null,
   "id": "d83ebe1a-a985-4e36-808b-6873020eb080",
   "metadata": {
    "tags": []
   },
   "outputs": [],
   "source": [
    "iris_data[100:].head()"
   ]
  },
  {
   "cell_type": "code",
   "execution_count": null,
   "id": "6d6a52ea-1e37-4b79-9f9e-fa3ac54d2324",
   "metadata": {
    "tags": []
   },
   "outputs": [],
   "source": [
    "iris_data.groupby('species').mean()"
   ]
  },
  {
   "cell_type": "code",
   "execution_count": null,
   "id": "ac53c354-1bd0-4e0d-869f-6a8fc365321a",
   "metadata": {
    "tags": []
   },
   "outputs": [],
   "source": [
    "iris_data.groupby('species').std()"
   ]
  },
  {
   "cell_type": "code",
   "execution_count": null,
   "id": "d22404cc-5230-4c00-9ba0-3c70c796a0c9",
   "metadata": {
    "tags": []
   },
   "outputs": [],
   "source": [
    "iris_data.describe()"
   ]
  },
  {
   "cell_type": "markdown",
   "id": "b3e04561-8a29-41c5-910c-e387cb62a6b4",
   "metadata": {},
   "source": [
    "### Data reshape"
   ]
  },
  {
   "cell_type": "code",
   "execution_count": null,
   "id": "a9a6c577-429f-4ab0-9652-6f0287f5f913",
   "metadata": {
    "tags": []
   },
   "outputs": [],
   "source": [
    "df2 = pd.melt(iris_data, id_vars=['species'], value_vars=['petal_width','petal_length','sepal_width','sepal_length'])"
   ]
  },
  {
   "cell_type": "code",
   "execution_count": null,
   "id": "18e260d3-eb8e-42d1-9589-ef35506aecea",
   "metadata": {
    "tags": []
   },
   "outputs": [],
   "source": [
    "df2.head()"
   ]
  },
  {
   "cell_type": "markdown",
   "id": "851ae0d0-43d7-41b1-9aa0-bd0fa5175079",
   "metadata": {},
   "source": [
    "## 3. Data Visualization\n",
    "  *   matplotlib\n",
    "  *   seaborn"
   ]
  },
  {
   "cell_type": "code",
   "execution_count": null,
   "id": "299dbd02-8380-4fd4-8318-e4ff60fd90ce",
   "metadata": {
    "tags": []
   },
   "outputs": [],
   "source": [
    "import seaborn as sns\n",
    "from matplotlib import pyplot as plt\n",
    "%matplotlib inline"
   ]
  },
  {
   "cell_type": "code",
   "execution_count": null,
   "id": "782db146-cb2b-49cc-80fc-4e02c8ddb525",
   "metadata": {
    "tags": []
   },
   "outputs": [],
   "source": [
    "sns.countplot(iris_data, x=\"species\");"
   ]
  },
  {
   "cell_type": "code",
   "execution_count": null,
   "id": "dbd4684c-3c5d-4d2e-8299-00afa4673f62",
   "metadata": {
    "tags": []
   },
   "outputs": [],
   "source": [
    "sns.pairplot(data=iris_data, kind='scatter', hue='species');"
   ]
  },
  {
   "cell_type": "code",
   "execution_count": null,
   "id": "b0a6cce0-88ae-4146-a267-9cd793603d01",
   "metadata": {
    "tags": []
   },
   "outputs": [],
   "source": [
    "# get current figure Get the current figure, if no create Figure()\n",
    "fig=plt.gcf()\n",
    "fig.set_size_inches(10,7)\n",
    "sns.scatterplot(x=\"petal_length\", y=\"petal_width\", data=iris_data, hue='species', s=50);"
   ]
  },
  {
   "cell_type": "code",
   "execution_count": null,
   "id": "654bf56c-e475-4cd9-a363-b2843a3546b6",
   "metadata": {
    "tags": []
   },
   "outputs": [],
   "source": [
    "# get current figure Get the current figure, if no create Figure()\n",
    "fig=plt.gcf()\n",
    "fig.set_size_inches(10,7)\n",
    "sns.boxplot(x=\"species\", y=\"petal_length\", data=iris_data, whis=np.inf);\n",
    "sns.swarmplot(x=\"species\", y=\"petal_length\", data=iris_data, color=\"0.2\", s=6);"
   ]
  },
  {
   "cell_type": "code",
   "execution_count": null,
   "id": "2fd44765-eeee-4f10-9e08-d18f8da93a56",
   "metadata": {
    "tags": []
   },
   "outputs": [],
   "source": [
    "fig=plt.gcf()\n",
    "fig.set_size_inches(10,7)\n",
    "sns.violinplot(x=\"species\", y=\"petal_length\", data=iris_data, inner=None)\n",
    "sns.swarmplot(x=\"species\", y=\"petal_length\", data=iris_data, color=\"0.2\", edgecolor=\"black\");"
   ]
  },
  {
   "cell_type": "code",
   "execution_count": null,
   "id": "3515ef68-abe8-4f8d-a6db-841a54661798",
   "metadata": {
    "tags": []
   },
   "outputs": [],
   "source": [
    "# cluster map (dendogram and tree)\n",
    "df = iris_data.iloc[:,:4]\n",
    "df1 = iris_data.species\n",
    "x = dict(zip(df1.unique(),\"rgb\"))\n",
    "row_colors = df1.map(x)\n",
    "cg = sns.clustermap(df,row_colors=row_colors,figsize=(12, 12),metric=\"correlation\")\n",
    "plt.setp(cg.ax_heatmap.yaxis.get_majorticklabels(),rotation = 0,size =12)\n",
    "plt.setp(cg.ax_heatmap.xaxis.get_majorticklabels(),rotation = 0,size =12)\n",
    "plt.show()\n",
    "print(x)"
   ]
  },
  {
   "cell_type": "code",
   "execution_count": null,
   "id": "e45e5b17-06e9-4fef-8e70-0d6c3249ceb1",
   "metadata": {
    "tags": []
   },
   "outputs": [],
   "source": [
    "# bar plot\n",
    "g = sns.catplot(x=\"variable\", y=\"value\", hue=\"species\", data=df2,\n",
    "                height=6, kind=\"bar\", palette=\"muted\")\n",
    "g.despine(left=True)\n",
    "g.set_ylabels(\"Length/Width (cm)\");"
   ]
  },
  {
   "cell_type": "markdown",
   "id": "a57fa93e-8911-4166-af26-cd16ab170829",
   "metadata": {},
   "source": [
    "## **Summary**\n",
    "\n",
    "1. load data into colab notebook\n",
    "2. data manipulation with Pandas\n",
    "3. Plotting data with Matplotlib and Seaborn"
   ]
  },
  {
   "cell_type": "code",
   "execution_count": null,
   "id": "057e9ed2-7e9f-459d-9e68-9e5bb9f4ef99",
   "metadata": {},
   "outputs": [],
   "source": []
  },
  {
   "cell_type": "markdown",
   "id": "868326ce-a3d9-4359-9839-be09240cbec5",
   "metadata": {},
   "source": [
    "# Sandbox"
   ]
  },
  {
   "cell_type": "code",
   "execution_count": null,
   "id": "09fc0e33-403d-497e-9a12-9a33ac92bcd5",
   "metadata": {
    "tags": []
   },
   "outputs": [],
   "source": [
    "iris_data.head()"
   ]
  },
  {
   "cell_type": "code",
   "execution_count": null,
   "id": "6324c45c-0cab-4e18-a80d-e843b1936969",
   "metadata": {
    "tags": []
   },
   "outputs": [],
   "source": [
    "iris_data.tail()"
   ]
  },
  {
   "cell_type": "code",
   "execution_count": null,
   "id": "1c1af337-7f40-487b-b27a-8dd6c6906932",
   "metadata": {
    "tags": []
   },
   "outputs": [],
   "source": [
    "iris_data.describe()"
   ]
  },
  {
   "cell_type": "code",
   "execution_count": null,
   "id": "a1feded9-22f3-40df-8e09-ac53cdd2fcbf",
   "metadata": {
    "tags": []
   },
   "outputs": [],
   "source": [
    "iris_data.info()"
   ]
  },
  {
   "cell_type": "code",
   "execution_count": null,
   "id": "8debfa60-bd55-48fa-8d5e-693ad9a227f3",
   "metadata": {
    "tags": []
   },
   "outputs": [],
   "source": [
    "iris_data['sepal_length']"
   ]
  },
  {
   "cell_type": "code",
   "execution_count": null,
   "id": "3cc948db-bab7-4d09-a941-5c15dfedf3b8",
   "metadata": {
    "tags": []
   },
   "outputs": [],
   "source": [
    "iris_data[0:3]"
   ]
  },
  {
   "cell_type": "code",
   "execution_count": null,
   "id": "6df3cd3f-9735-41da-9249-2d3769c0fa59",
   "metadata": {
    "tags": []
   },
   "outputs": [],
   "source": [
    "iris_data.loc[0:4, 'sepal_length']"
   ]
  },
  {
   "cell_type": "code",
   "execution_count": null,
   "id": "8298ff71-ca1f-40ae-b493-d0017c2bcde9",
   "metadata": {
    "tags": []
   },
   "outputs": [],
   "source": [
    "iris_data.loc[:, 'sepal_width']"
   ]
  },
  {
   "cell_type": "code",
   "execution_count": null,
   "id": "94418060-9d1b-4f70-9542-118870ca3098",
   "metadata": {
    "tags": []
   },
   "outputs": [],
   "source": [
    "iris_data.loc[0, 'sepal_width']"
   ]
  },
  {
   "cell_type": "code",
   "execution_count": null,
   "id": "953ab10f-a92c-466c-8a51-eedd56a61c1f",
   "metadata": {
    "tags": []
   },
   "outputs": [],
   "source": [
    "iris_data.iloc[0:5, :]"
   ]
  },
  {
   "cell_type": "code",
   "execution_count": null,
   "id": "70cfbd4d-ca61-43b1-9642-4c31edccf7a4",
   "metadata": {
    "tags": []
   },
   "outputs": [],
   "source": [
    "iris_data.iloc[0, 0]"
   ]
  },
  {
   "cell_type": "code",
   "execution_count": null,
   "id": "d96edfa8-f4b7-4af1-81ea-6ddf9d1d8e21",
   "metadata": {
    "tags": []
   },
   "outputs": [],
   "source": [
    "iris_data[iris_data.sepal_length>7]"
   ]
  },
  {
   "cell_type": "code",
   "execution_count": null,
   "id": "a01eb0c1-e5fd-4baa-83bb-652ddaf2fae7",
   "metadata": {
    "tags": []
   },
   "outputs": [],
   "source": [
    "iris_data[iris_data[\"species\"].isin(['setosa', 'virginica'])]"
   ]
  },
  {
   "cell_type": "code",
   "execution_count": null,
   "id": "34db351b-8361-481c-9272-ca426d847e1b",
   "metadata": {
    "tags": []
   },
   "outputs": [],
   "source": [
    "iris_data[\"species\"].isin(['setosa', 'virginica'])"
   ]
  },
  {
   "cell_type": "code",
   "execution_count": null,
   "id": "33296fb2-a684-42c7-b0ea-9ecb538f112b",
   "metadata": {
    "tags": []
   },
   "outputs": [],
   "source": [
    "sns.regplot(data=iris_data, x=\"sepal_length\", y=\"petal_length\");\n"
   ]
  },
  {
   "cell_type": "code",
   "execution_count": 41,
   "id": "d2ec5336-10da-461c-955a-a3b5bb2e2f37",
   "metadata": {
    "tags": []
   },
   "outputs": [],
   "source": [
    "from collections import Counter"
   ]
  },
  {
   "cell_type": "code",
   "execution_count": 42,
   "id": "0b800c4b-6b0c-4aaa-92f7-0186112e650e",
   "metadata": {
    "tags": []
   },
   "outputs": [
    {
     "data": {
      "text/plain": [
       "Counter({False: 138, True: 12})"
      ]
     },
     "execution_count": 42,
     "metadata": {},
     "output_type": "execute_result"
    }
   ],
   "source": [
    "Counter(iris_data.sepal_length > 7)"
   ]
  },
  {
   "cell_type": "code",
   "execution_count": null,
   "id": "d48366ef-f8c9-410f-a0c8-59fec7b1b3ec",
   "metadata": {},
   "outputs": [],
   "source": []
  },
  {
   "cell_type": "code",
   "execution_count": null,
   "id": "af7fe9d4-9d4f-422c-9d93-fcddb4e2bbfd",
   "metadata": {},
   "outputs": [],
   "source": []
  },
  {
   "cell_type": "code",
   "execution_count": null,
   "id": "8a9f918c-9aa0-46d7-b449-b3191fef3dac",
   "metadata": {},
   "outputs": [],
   "source": []
  },
  {
   "cell_type": "code",
   "execution_count": 36,
   "id": "05ef3d51-2079-407b-86ed-bbbce215ce8f",
   "metadata": {
    "tags": []
   },
   "outputs": [],
   "source": [
    "import pandas as pd\n",
    "\n",
    "df = pd.DataFrame({\n",
    "    'sepal_length': [5.1, 4.9, 4.7, 4.6],\n",
    "    'sepal_width': [3.4, 3.5, 3.2, 3.1],\n",
    "    'petal_length': [1.4, 1.4, 1.3, 1.5],\n",
    "    'petal_width': [0.2, 0.2, 0.2, 0.2],\n",
    "    'species': ['setosa','setosa','setosa','setosa']\n",
    "})\n"
   ]
  },
  {
   "cell_type": "code",
   "execution_count": 37,
   "id": "1e5a3cf8-2b18-418a-b824-86aebccc9bfb",
   "metadata": {
    "tags": []
   },
   "outputs": [
    {
     "data": {
      "text/html": [
       "<div>\n",
       "<style scoped>\n",
       "    .dataframe tbody tr th:only-of-type {\n",
       "        vertical-align: middle;\n",
       "    }\n",
       "\n",
       "    .dataframe tbody tr th {\n",
       "        vertical-align: top;\n",
       "    }\n",
       "\n",
       "    .dataframe thead th {\n",
       "        text-align: right;\n",
       "    }\n",
       "</style>\n",
       "<table border=\"1\" class=\"dataframe\">\n",
       "  <thead>\n",
       "    <tr style=\"text-align: right;\">\n",
       "      <th></th>\n",
       "      <th>sepal_length</th>\n",
       "      <th>sepal_width</th>\n",
       "      <th>petal_length</th>\n",
       "      <th>petal_width</th>\n",
       "      <th>species</th>\n",
       "    </tr>\n",
       "  </thead>\n",
       "  <tbody>\n",
       "    <tr>\n",
       "      <th>0</th>\n",
       "      <td>5.1</td>\n",
       "      <td>3.4</td>\n",
       "      <td>1.4</td>\n",
       "      <td>0.2</td>\n",
       "      <td>setosa</td>\n",
       "    </tr>\n",
       "    <tr>\n",
       "      <th>1</th>\n",
       "      <td>4.9</td>\n",
       "      <td>3.5</td>\n",
       "      <td>1.4</td>\n",
       "      <td>0.2</td>\n",
       "      <td>setosa</td>\n",
       "    </tr>\n",
       "    <tr>\n",
       "      <th>2</th>\n",
       "      <td>4.7</td>\n",
       "      <td>3.2</td>\n",
       "      <td>1.3</td>\n",
       "      <td>0.2</td>\n",
       "      <td>setosa</td>\n",
       "    </tr>\n",
       "    <tr>\n",
       "      <th>3</th>\n",
       "      <td>4.6</td>\n",
       "      <td>3.1</td>\n",
       "      <td>1.5</td>\n",
       "      <td>0.2</td>\n",
       "      <td>setosa</td>\n",
       "    </tr>\n",
       "  </tbody>\n",
       "</table>\n",
       "</div>"
      ],
      "text/plain": [
       "   sepal_length  sepal_width  petal_length  petal_width species\n",
       "0           5.1          3.4           1.4          0.2  setosa\n",
       "1           4.9          3.5           1.4          0.2  setosa\n",
       "2           4.7          3.2           1.3          0.2  setosa\n",
       "3           4.6          3.1           1.5          0.2  setosa"
      ]
     },
     "execution_count": 37,
     "metadata": {},
     "output_type": "execute_result"
    }
   ],
   "source": [
    "df"
   ]
  },
  {
   "cell_type": "code",
   "execution_count": 49,
   "id": "75320f60-6f65-43c3-bdf1-e61a2a160acb",
   "metadata": {
    "tags": []
   },
   "outputs": [
    {
     "data": {
      "text/html": [
       "<div>\n",
       "<style scoped>\n",
       "    .dataframe tbody tr th:only-of-type {\n",
       "        vertical-align: middle;\n",
       "    }\n",
       "\n",
       "    .dataframe tbody tr th {\n",
       "        vertical-align: top;\n",
       "    }\n",
       "\n",
       "    .dataframe thead th {\n",
       "        text-align: right;\n",
       "    }\n",
       "</style>\n",
       "<table border=\"1\" class=\"dataframe\">\n",
       "  <thead>\n",
       "    <tr style=\"text-align: right;\">\n",
       "      <th></th>\n",
       "      <th>sum_sq</th>\n",
       "      <th>df</th>\n",
       "      <th>F</th>\n",
       "      <th>PR(&gt;F)</th>\n",
       "    </tr>\n",
       "  </thead>\n",
       "  <tbody>\n",
       "    <tr>\n",
       "      <th>C(species)</th>\n",
       "      <td>63.212133</td>\n",
       "      <td>2.0</td>\n",
       "      <td>119.264502</td>\n",
       "      <td>1.669669e-31</td>\n",
       "    </tr>\n",
       "    <tr>\n",
       "      <th>Residual</th>\n",
       "      <td>38.956200</td>\n",
       "      <td>147.0</td>\n",
       "      <td>NaN</td>\n",
       "      <td>NaN</td>\n",
       "    </tr>\n",
       "  </tbody>\n",
       "</table>\n",
       "</div>"
      ],
      "text/plain": [
       "               sum_sq     df           F        PR(>F)\n",
       "C(species)  63.212133    2.0  119.264502  1.669669e-31\n",
       "Residual    38.956200  147.0         NaN           NaN"
      ]
     },
     "execution_count": 49,
     "metadata": {},
     "output_type": "execute_result"
    }
   ],
   "source": [
    "import statsmodels.api as sm\n",
    "from statsmodels.formula.api import ols\n",
    "\n",
    "# ANOVA \n",
    "model = ols('sepal_length ~ C(species)', data=iris_data).fit() \n",
    "anova_table = sm.stats.anova_lm(model, typ=2)\n",
    "\n",
    "anova_table"
   ]
  },
  {
   "cell_type": "code",
   "execution_count": null,
   "id": "fee34714-009d-4ac9-a305-b6e0cd611e8a",
   "metadata": {},
   "outputs": [],
   "source": []
  }
 ],
 "metadata": {
  "kernelspec": {
   "display_name": "Python 3 (ipykernel)",
   "language": "python",
   "name": "python3"
  },
  "language_info": {
   "codemirror_mode": {
    "name": "ipython",
    "version": 3
   },
   "file_extension": ".py",
   "mimetype": "text/x-python",
   "name": "python",
   "nbconvert_exporter": "python",
   "pygments_lexer": "ipython3",
   "version": "3.10.13"
  }
 },
 "nbformat": 4,
 "nbformat_minor": 5
}
